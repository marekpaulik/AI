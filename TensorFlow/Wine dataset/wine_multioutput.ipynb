{
 "cells": [
  {
   "cell_type": "code",
   "execution_count": 87,
   "source": [
    "import tensorflow as tf\r\n",
    "import pandas as pd\r\n",
    "import numpy as np\r\n",
    "from sklearn.model_selection import train_test_split\r\n",
    "\r\n",
    "import matplotlib.pyplot as plt\r\n",
    "from tensorflow.keras.models import Model\r\n",
    "from tensorflow.keras.layers import Input, Dense"
   ],
   "outputs": [],
   "metadata": {}
  },
  {
   "cell_type": "code",
   "execution_count": 111,
   "source": [
    "# Utility functions\r\n",
    "\r\n",
    "def get_targets(data):\r\n",
    "    y1 = data.pop('is_red')\r\n",
    "    #y1 = np.array(y1)\r\n",
    "    y2 = data.pop('alcohol')\r\n",
    "    #y2 = np.array(y2)\r\n",
    "    return y1, y2\r\n",
    "\r\n",
    "def normalize(x, stats_set):\r\n",
    "    if stats_set == 'train':\r\n",
    "        return (x - train_stats['mean'])/(train_stats['std'])\r\n",
    "    elif stats_set == 'test':\r\n",
    "        return (x - test_stats['mean'])/(test_stats['std'])\r\n",
    "\r\n",
    "\r\n",
    "# Plotting utilities\r\n",
    "def plot_metric(metric_name, title, ylim=5):\r\n",
    "    plt.title(title)\r\n",
    "    plt.ylim(0, ylim)\r\n",
    "    plt.plot(history.history[metric_name], color='blue', label='Training')\r\n",
    "    plt.plot(history.history['val_'+ metric_name], color='green', label='Validation')\r\n",
    "    plt.legend(loc='best')"
   ],
   "outputs": [],
   "metadata": {}
  },
  {
   "cell_type": "code",
   "execution_count": 82,
   "source": [
    "# Load datasets\r\n",
    "white = pd.read_csv(\"C:/Users/marek/Deep Learning/Data/Wine/winequality-white.csv\", sep=';')\r\n",
    "red = pd.read_csv(\"C:/Users/marek/Deep Learning/Data/Wine/winequality-red.csv\", sep=';')"
   ],
   "outputs": [],
   "metadata": {}
  },
  {
   "cell_type": "code",
   "execution_count": 83,
   "source": [
    "# Create red/white column\r\n",
    "white['is_red'] = 0\r\n",
    "red['is_red'] = 1\r\n",
    "\r\n",
    "# Concatenate variables\r\n",
    "df = pd.concat([red, white])"
   ],
   "outputs": [],
   "metadata": {}
  },
  {
   "cell_type": "code",
   "execution_count": 84,
   "source": [
    "# Prepare the data\r\n",
    "train, test = train_test_split(df, test_size=0.2)\r\n",
    "\r\n",
    "train_Y = get_targets(train)\r\n",
    "test_Y = get_targets(test)\r\n",
    "\r\n",
    "train_stats = train.describe()\r\n",
    "test_stats = test.describe()\r\n",
    "\r\n",
    "train_stats = train_stats.transpose()\r\n",
    "test_stats = test_stats.transpose()\r\n",
    "\r\n",
    "train_X_norm = normalize(train, 'train')\r\n",
    "test_X_norm = normalize(test, 'test')"
   ],
   "outputs": [],
   "metadata": {}
  },
  {
   "cell_type": "code",
   "execution_count": 96,
   "source": [
    "len(train.columns)"
   ],
   "outputs": [
    {
     "output_type": "execute_result",
     "data": {
      "text/plain": [
       "11"
      ]
     },
     "metadata": {},
     "execution_count": 96
    }
   ],
   "metadata": {}
  },
  {
   "cell_type": "code",
   "execution_count": 104,
   "source": [
    "# Build Model\r\n",
    "input_layer = Input(shape=(len(train.columns), ))\r\n",
    "first_dense = Dense(128, activation='relu')(input_layer)\r\n",
    "second_dense = Dense(128, activation='relu')(first_dense)\r\n",
    "\r\n",
    "wine_type = Dense(1, activation='sigmoid', name='wine_type')(second_dense)\r\n",
    "wine_alcohol = Dense(1, activation='relu', name='wine_alcohol')(second_dense)\r\n",
    "\r\n",
    "model = Model(inputs=[input_layer], outputs=[wine_type, wine_alcohol])\r\n"
   ],
   "outputs": [],
   "metadata": {}
  },
  {
   "cell_type": "code",
   "execution_count": 105,
   "source": [
    "rms = tf.keras.optimizers.RMSprop(learning_rate=0.0001)\r\n",
    "model.compile(optimizer=rms, \r\n",
    "              loss = {'wine_type' : 'binary_crossentropy',\r\n",
    "                      'wine_alcohol' : 'mse'\r\n",
    "                     },\r\n",
    "              metrics = {'wine_type' : 'accuracy',\r\n",
    "                         'wine_alcohol': tf.keras.metrics.RootMeanSquaredError()\r\n",
    "                       }\r\n",
    "             )"
   ],
   "outputs": [],
   "metadata": {}
  },
  {
   "cell_type": "code",
   "execution_count": 106,
   "source": [
    "history = model.fit(train_X_norm, train_Y, epochs=100, validation_data=(test_X_norm, test_Y))"
   ],
   "outputs": [
    {
     "output_type": "stream",
     "name": "stdout",
     "text": [
      "Epoch 1/100\n",
      "163/163 [==============================] - 10s 58ms/step - loss: 81.0200 - wine_type_loss: 0.6241 - wine_alcohol_loss: 80.3959 - wine_type_accuracy: 0.7441 - wine_alcohol_root_mean_squared_error: 8.9664 - val_loss: 52.1336 - val_wine_type_loss: 0.6036 - val_wine_alcohol_loss: 51.5300 - val_wine_type_accuracy: 0.7385 - val_wine_alcohol_root_mean_squared_error: 7.1784\n",
      "Epoch 2/100\n",
      "163/163 [==============================] - 2s 11ms/step - loss: 30.4330 - wine_type_loss: 0.5630 - wine_alcohol_loss: 29.8700 - wine_type_accuracy: 0.7577 - wine_alcohol_root_mean_squared_error: 5.4653 - val_loss: 12.2695 - val_wine_type_loss: 0.5291 - val_wine_alcohol_loss: 11.7404 - val_wine_type_accuracy: 0.7385 - val_wine_alcohol_root_mean_squared_error: 3.4264\n",
      "Epoch 3/100\n",
      "163/163 [==============================] - 2s 10ms/step - loss: 9.0696 - wine_type_loss: 0.4248 - wine_alcohol_loss: 8.6448 - wine_type_accuracy: 0.7805 - wine_alcohol_root_mean_squared_error: 2.9402 - val_loss: 5.9067 - val_wine_type_loss: 0.3466 - val_wine_alcohol_loss: 5.5601 - val_wine_type_accuracy: 0.8562 - val_wine_alcohol_root_mean_squared_error: 2.3580\n",
      "Epoch 4/100\n",
      "163/163 [==============================] - 2s 11ms/step - loss: 6.0361 - wine_type_loss: 0.2826 - wine_alcohol_loss: 5.7535 - wine_type_accuracy: 0.9402 - wine_alcohol_root_mean_squared_error: 2.3986 - val_loss: 4.8601 - val_wine_type_loss: 0.2319 - val_wine_alcohol_loss: 4.6282 - val_wine_type_accuracy: 0.9654 - val_wine_alcohol_root_mean_squared_error: 2.1513\n",
      "Epoch 5/100\n",
      "163/163 [==============================] - 2s 11ms/step - loss: 4.9824 - wine_type_loss: 0.1918 - wine_alcohol_loss: 4.7906 - wine_type_accuracy: 0.9786 - wine_alcohol_root_mean_squared_error: 2.1887 - val_loss: 4.1220 - val_wine_type_loss: 0.1568 - val_wine_alcohol_loss: 3.9652 - val_wine_type_accuracy: 0.9823 - val_wine_alcohol_root_mean_squared_error: 1.9913\n",
      "Epoch 6/100\n",
      "163/163 [==============================] - 2s 10ms/step - loss: 4.3410 - wine_type_loss: 0.1393 - wine_alcohol_loss: 4.2017 - wine_type_accuracy: 0.9871 - wine_alcohol_root_mean_squared_error: 2.0498 - val_loss: 3.6355 - val_wine_type_loss: 0.1162 - val_wine_alcohol_loss: 3.5193 - val_wine_type_accuracy: 0.9862 - val_wine_alcohol_root_mean_squared_error: 1.8760\n",
      "Epoch 7/100\n",
      "163/163 [==============================] - 2s 15ms/step - loss: 3.8394 - wine_type_loss: 0.1063 - wine_alcohol_loss: 3.7330 - wine_type_accuracy: 0.9890 - wine_alcohol_root_mean_squared_error: 1.9321 - val_loss: 3.2144 - val_wine_type_loss: 0.0878 - val_wine_alcohol_loss: 3.1266 - val_wine_type_accuracy: 0.9877 - val_wine_alcohol_root_mean_squared_error: 1.7682\n",
      "Epoch 8/100\n",
      "163/163 [==============================] - 2s 12ms/step - loss: 3.4071 - wine_type_loss: 0.0851 - wine_alcohol_loss: 3.3220 - wine_type_accuracy: 0.9900 - wine_alcohol_root_mean_squared_error: 1.8226 - val_loss: 2.8898 - val_wine_type_loss: 0.0707 - val_wine_alcohol_loss: 2.8192 - val_wine_type_accuracy: 0.9892 - val_wine_alcohol_root_mean_squared_error: 1.6790\n",
      "Epoch 9/100\n",
      "163/163 [==============================] - 2s 10ms/step - loss: 3.0331 - wine_type_loss: 0.0716 - wine_alcohol_loss: 2.9614 - wine_type_accuracy: 0.9910 - wine_alcohol_root_mean_squared_error: 1.7209 - val_loss: 2.5619 - val_wine_type_loss: 0.0582 - val_wine_alcohol_loss: 2.5036 - val_wine_type_accuracy: 0.9908 - val_wine_alcohol_root_mean_squared_error: 1.5823\n",
      "Epoch 10/100\n",
      "163/163 [==============================] - 2s 10ms/step - loss: 2.6803 - wine_type_loss: 0.0627 - wine_alcohol_loss: 2.6176 - wine_type_accuracy: 0.9908 - wine_alcohol_root_mean_squared_error: 1.6179 - val_loss: 2.2861 - val_wine_type_loss: 0.0506 - val_wine_alcohol_loss: 2.2354 - val_wine_type_accuracy: 0.9908 - val_wine_alcohol_root_mean_squared_error: 1.4951\n",
      "Epoch 11/100\n",
      "163/163 [==============================] - 2s 10ms/step - loss: 2.3740 - wine_type_loss: 0.0567 - wine_alcohol_loss: 2.3173 - wine_type_accuracy: 0.9915 - wine_alcohol_root_mean_squared_error: 1.5223 - val_loss: 2.0783 - val_wine_type_loss: 0.0451 - val_wine_alcohol_loss: 2.0332 - val_wine_type_accuracy: 0.9915 - val_wine_alcohol_root_mean_squared_error: 1.4259\n",
      "Epoch 12/100\n",
      "163/163 [==============================] - 2s 11ms/step - loss: 2.1191 - wine_type_loss: 0.0523 - wine_alcohol_loss: 2.0668 - wine_type_accuracy: 0.9913 - wine_alcohol_root_mean_squared_error: 1.4376 - val_loss: 1.8516 - val_wine_type_loss: 0.0424 - val_wine_alcohol_loss: 1.8092 - val_wine_type_accuracy: 0.9908 - val_wine_alcohol_root_mean_squared_error: 1.3451\n",
      "Epoch 13/100\n",
      "163/163 [==============================] - 2s 13ms/step - loss: 1.8661 - wine_type_loss: 0.0493 - wine_alcohol_loss: 1.8167 - wine_type_accuracy: 0.9915 - wine_alcohol_root_mean_squared_error: 1.3479 - val_loss: 1.6218 - val_wine_type_loss: 0.0387 - val_wine_alcohol_loss: 1.5831 - val_wine_type_accuracy: 0.9915 - val_wine_alcohol_root_mean_squared_error: 1.2582\n",
      "Epoch 14/100\n",
      "163/163 [==============================] - 3s 19ms/step - loss: 1.6290 - wine_type_loss: 0.0468 - wine_alcohol_loss: 1.5822 - wine_type_accuracy: 0.9917 - wine_alcohol_root_mean_squared_error: 1.2579 - val_loss: 1.4412 - val_wine_type_loss: 0.0364 - val_wine_alcohol_loss: 1.4048 - val_wine_type_accuracy: 0.9915 - val_wine_alcohol_root_mean_squared_error: 1.1852\n",
      "Epoch 15/100\n",
      "163/163 [==============================] - 2s 10ms/step - loss: 1.4188 - wine_type_loss: 0.0449 - wine_alcohol_loss: 1.3739 - wine_type_accuracy: 0.9921 - wine_alcohol_root_mean_squared_error: 1.1722 - val_loss: 1.2560 - val_wine_type_loss: 0.0345 - val_wine_alcohol_loss: 1.2215 - val_wine_type_accuracy: 0.9915 - val_wine_alcohol_root_mean_squared_error: 1.1052\n",
      "Epoch 16/100\n",
      "163/163 [==============================] - 2s 14ms/step - loss: 1.2336 - wine_type_loss: 0.0434 - wine_alcohol_loss: 1.1901 - wine_type_accuracy: 0.9921 - wine_alcohol_root_mean_squared_error: 1.0909 - val_loss: 1.1204 - val_wine_type_loss: 0.0329 - val_wine_alcohol_loss: 1.0875 - val_wine_type_accuracy: 0.9923 - val_wine_alcohol_root_mean_squared_error: 1.0429\n",
      "Epoch 17/100\n",
      "163/163 [==============================] - 2s 11ms/step - loss: 1.0626 - wine_type_loss: 0.0423 - wine_alcohol_loss: 1.0203 - wine_type_accuracy: 0.9923 - wine_alcohol_root_mean_squared_error: 1.0101 - val_loss: 0.9754 - val_wine_type_loss: 0.0320 - val_wine_alcohol_loss: 0.9435 - val_wine_type_accuracy: 0.9931 - val_wine_alcohol_root_mean_squared_error: 0.9713\n",
      "Epoch 18/100\n",
      "163/163 [==============================] - 2s 11ms/step - loss: 0.9230 - wine_type_loss: 0.0412 - wine_alcohol_loss: 0.8817 - wine_type_accuracy: 0.9925 - wine_alcohol_root_mean_squared_error: 0.9390 - val_loss: 0.8604 - val_wine_type_loss: 0.0310 - val_wine_alcohol_loss: 0.8294 - val_wine_type_accuracy: 0.9931 - val_wine_alcohol_root_mean_squared_error: 0.9107\n",
      "Epoch 19/100\n",
      "163/163 [==============================] - 2s 12ms/step - loss: 0.7993 - wine_type_loss: 0.0404 - wine_alcohol_loss: 0.7589 - wine_type_accuracy: 0.9927 - wine_alcohol_root_mean_squared_error: 0.8711 - val_loss: 0.7883 - val_wine_type_loss: 0.0297 - val_wine_alcohol_loss: 0.7586 - val_wine_type_accuracy: 0.9931 - val_wine_alcohol_root_mean_squared_error: 0.8710\n",
      "Epoch 20/100\n",
      "163/163 [==============================] - 2s 13ms/step - loss: 0.6925 - wine_type_loss: 0.0398 - wine_alcohol_loss: 0.6527 - wine_type_accuracy: 0.9927 - wine_alcohol_root_mean_squared_error: 0.8079 - val_loss: 0.6810 - val_wine_type_loss: 0.0289 - val_wine_alcohol_loss: 0.6521 - val_wine_type_accuracy: 0.9931 - val_wine_alcohol_root_mean_squared_error: 0.8075\n",
      "Epoch 21/100\n",
      "163/163 [==============================] - 2s 12ms/step - loss: 0.5999 - wine_type_loss: 0.0392 - wine_alcohol_loss: 0.5607 - wine_type_accuracy: 0.9931 - wine_alcohol_root_mean_squared_error: 0.7488 - val_loss: 0.5906 - val_wine_type_loss: 0.0286 - val_wine_alcohol_loss: 0.5620 - val_wine_type_accuracy: 0.9931 - val_wine_alcohol_root_mean_squared_error: 0.7497\n",
      "Epoch 22/100\n",
      "163/163 [==============================] - 2s 13ms/step - loss: 0.5289 - wine_type_loss: 0.0387 - wine_alcohol_loss: 0.4902 - wine_type_accuracy: 0.9927 - wine_alcohol_root_mean_squared_error: 0.7001 - val_loss: 0.5395 - val_wine_type_loss: 0.0278 - val_wine_alcohol_loss: 0.5117 - val_wine_type_accuracy: 0.9931 - val_wine_alcohol_root_mean_squared_error: 0.7153\n",
      "Epoch 23/100\n",
      "163/163 [==============================] - 3s 19ms/step - loss: 0.4663 - wine_type_loss: 0.0382 - wine_alcohol_loss: 0.4281 - wine_type_accuracy: 0.9931 - wine_alcohol_root_mean_squared_error: 0.6543 - val_loss: 0.4790 - val_wine_type_loss: 0.0276 - val_wine_alcohol_loss: 0.4514 - val_wine_type_accuracy: 0.9931 - val_wine_alcohol_root_mean_squared_error: 0.6719\n",
      "Epoch 24/100\n",
      "163/163 [==============================] - 2s 14ms/step - loss: 0.4163 - wine_type_loss: 0.0378 - wine_alcohol_loss: 0.3785 - wine_type_accuracy: 0.9937 - wine_alcohol_root_mean_squared_error: 0.6152 - val_loss: 0.4400 - val_wine_type_loss: 0.0271 - val_wine_alcohol_loss: 0.4129 - val_wine_type_accuracy: 0.9931 - val_wine_alcohol_root_mean_squared_error: 0.6426\n",
      "Epoch 25/100\n",
      "163/163 [==============================] - 1s 9ms/step - loss: 0.3783 - wine_type_loss: 0.0374 - wine_alcohol_loss: 0.3410 - wine_type_accuracy: 0.9933 - wine_alcohol_root_mean_squared_error: 0.5839 - val_loss: 0.4234 - val_wine_type_loss: 0.0270 - val_wine_alcohol_loss: 0.3964 - val_wine_type_accuracy: 0.9931 - val_wine_alcohol_root_mean_squared_error: 0.6296\n",
      "Epoch 26/100\n",
      "163/163 [==============================] - 2s 13ms/step - loss: 0.3492 - wine_type_loss: 0.0370 - wine_alcohol_loss: 0.3122 - wine_type_accuracy: 0.9929 - wine_alcohol_root_mean_squared_error: 0.5587 - val_loss: 0.3767 - val_wine_type_loss: 0.0259 - val_wine_alcohol_loss: 0.3508 - val_wine_type_accuracy: 0.9931 - val_wine_alcohol_root_mean_squared_error: 0.5922\n",
      "Epoch 27/100\n",
      "163/163 [==============================] - 2s 12ms/step - loss: 0.3251 - wine_type_loss: 0.0367 - wine_alcohol_loss: 0.2884 - wine_type_accuracy: 0.9935 - wine_alcohol_root_mean_squared_error: 0.5370 - val_loss: 0.3574 - val_wine_type_loss: 0.0254 - val_wine_alcohol_loss: 0.3320 - val_wine_type_accuracy: 0.9923 - val_wine_alcohol_root_mean_squared_error: 0.5762\n",
      "Epoch 28/100\n",
      "163/163 [==============================] - 3s 17ms/step - loss: 0.3065 - wine_type_loss: 0.0364 - wine_alcohol_loss: 0.2701 - wine_type_accuracy: 0.9937 - wine_alcohol_root_mean_squared_error: 0.5197 - val_loss: 0.3364 - val_wine_type_loss: 0.0254 - val_wine_alcohol_loss: 0.3110 - val_wine_type_accuracy: 0.9923 - val_wine_alcohol_root_mean_squared_error: 0.5577\n",
      "Epoch 29/100\n",
      "163/163 [==============================] - 3s 18ms/step - loss: 0.2918 - wine_type_loss: 0.0360 - wine_alcohol_loss: 0.2558 - wine_type_accuracy: 0.9933 - wine_alcohol_root_mean_squared_error: 0.5058 - val_loss: 0.3244 - val_wine_type_loss: 0.0254 - val_wine_alcohol_loss: 0.2990 - val_wine_type_accuracy: 0.9923 - val_wine_alcohol_root_mean_squared_error: 0.5468\n",
      "Epoch 30/100\n",
      "163/163 [==============================] - 3s 16ms/step - loss: 0.2802 - wine_type_loss: 0.0357 - wine_alcohol_loss: 0.2445 - wine_type_accuracy: 0.9933 - wine_alcohol_root_mean_squared_error: 0.4945 - val_loss: 0.3169 - val_wine_type_loss: 0.0245 - val_wine_alcohol_loss: 0.2924 - val_wine_type_accuracy: 0.9931 - val_wine_alcohol_root_mean_squared_error: 0.5408\n",
      "Epoch 31/100\n",
      "163/163 [==============================] - 2s 14ms/step - loss: 0.2702 - wine_type_loss: 0.0355 - wine_alcohol_loss: 0.2347 - wine_type_accuracy: 0.9937 - wine_alcohol_root_mean_squared_error: 0.4844 - val_loss: 0.3146 - val_wine_type_loss: 0.0243 - val_wine_alcohol_loss: 0.2903 - val_wine_type_accuracy: 0.9931 - val_wine_alcohol_root_mean_squared_error: 0.5388\n",
      "Epoch 32/100\n",
      "163/163 [==============================] - 2s 12ms/step - loss: 0.2633 - wine_type_loss: 0.0351 - wine_alcohol_loss: 0.2282 - wine_type_accuracy: 0.9937 - wine_alcohol_root_mean_squared_error: 0.4777 - val_loss: 0.3010 - val_wine_type_loss: 0.0247 - val_wine_alcohol_loss: 0.2763 - val_wine_type_accuracy: 0.9931 - val_wine_alcohol_root_mean_squared_error: 0.5256\n",
      "Epoch 33/100\n",
      "163/163 [==============================] - 2s 12ms/step - loss: 0.2547 - wine_type_loss: 0.0350 - wine_alcohol_loss: 0.2198 - wine_type_accuracy: 0.9933 - wine_alcohol_root_mean_squared_error: 0.4688 - val_loss: 0.2908 - val_wine_type_loss: 0.0239 - val_wine_alcohol_loss: 0.2669 - val_wine_type_accuracy: 0.9931 - val_wine_alcohol_root_mean_squared_error: 0.5166\n",
      "Epoch 34/100\n",
      "163/163 [==============================] - 2s 11ms/step - loss: 0.2507 - wine_type_loss: 0.0346 - wine_alcohol_loss: 0.2161 - wine_type_accuracy: 0.9937 - wine_alcohol_root_mean_squared_error: 0.4648 - val_loss: 0.2892 - val_wine_type_loss: 0.0235 - val_wine_alcohol_loss: 0.2657 - val_wine_type_accuracy: 0.9931 - val_wine_alcohol_root_mean_squared_error: 0.5154\n",
      "Epoch 35/100\n",
      "163/163 [==============================] - 3s 21ms/step - loss: 0.2440 - wine_type_loss: 0.0343 - wine_alcohol_loss: 0.2096 - wine_type_accuracy: 0.9938 - wine_alcohol_root_mean_squared_error: 0.4578 - val_loss: 0.2926 - val_wine_type_loss: 0.0236 - val_wine_alcohol_loss: 0.2689 - val_wine_type_accuracy: 0.9931 - val_wine_alcohol_root_mean_squared_error: 0.5186\n",
      "Epoch 36/100\n",
      "163/163 [==============================] - 2s 15ms/step - loss: 0.2402 - wine_type_loss: 0.0341 - wine_alcohol_loss: 0.2061 - wine_type_accuracy: 0.9938 - wine_alcohol_root_mean_squared_error: 0.4540 - val_loss: 0.2731 - val_wine_type_loss: 0.0237 - val_wine_alcohol_loss: 0.2494 - val_wine_type_accuracy: 0.9931 - val_wine_alcohol_root_mean_squared_error: 0.4994\n",
      "Epoch 37/100\n",
      "163/163 [==============================] - 3s 16ms/step - loss: 0.2359 - wine_type_loss: 0.0339 - wine_alcohol_loss: 0.2019 - wine_type_accuracy: 0.9938 - wine_alcohol_root_mean_squared_error: 0.4494 - val_loss: 0.2696 - val_wine_type_loss: 0.0231 - val_wine_alcohol_loss: 0.2466 - val_wine_type_accuracy: 0.9931 - val_wine_alcohol_root_mean_squared_error: 0.4965\n",
      "Epoch 38/100\n",
      "163/163 [==============================] - 3s 15ms/step - loss: 0.2320 - wine_type_loss: 0.0336 - wine_alcohol_loss: 0.1984 - wine_type_accuracy: 0.9940 - wine_alcohol_root_mean_squared_error: 0.4454 - val_loss: 0.2666 - val_wine_type_loss: 0.0228 - val_wine_alcohol_loss: 0.2438 - val_wine_type_accuracy: 0.9931 - val_wine_alcohol_root_mean_squared_error: 0.4938\n",
      "Epoch 39/100\n",
      "163/163 [==============================] - 3s 18ms/step - loss: 0.2286 - wine_type_loss: 0.0334 - wine_alcohol_loss: 0.1952 - wine_type_accuracy: 0.9940 - wine_alcohol_root_mean_squared_error: 0.4418 - val_loss: 0.2681 - val_wine_type_loss: 0.0231 - val_wine_alcohol_loss: 0.2450 - val_wine_type_accuracy: 0.9931 - val_wine_alcohol_root_mean_squared_error: 0.4950\n",
      "Epoch 40/100\n",
      "163/163 [==============================] - 1s 9ms/step - loss: 0.2257 - wine_type_loss: 0.0332 - wine_alcohol_loss: 0.1926 - wine_type_accuracy: 0.9944 - wine_alcohol_root_mean_squared_error: 0.4388 - val_loss: 0.2556 - val_wine_type_loss: 0.0226 - val_wine_alcohol_loss: 0.2330 - val_wine_type_accuracy: 0.9931 - val_wine_alcohol_root_mean_squared_error: 0.4827\n",
      "Epoch 41/100\n",
      "163/163 [==============================] - 1s 9ms/step - loss: 0.2215 - wine_type_loss: 0.0330 - wine_alcohol_loss: 0.1886 - wine_type_accuracy: 0.9940 - wine_alcohol_root_mean_squared_error: 0.4342 - val_loss: 0.2517 - val_wine_type_loss: 0.0222 - val_wine_alcohol_loss: 0.2295 - val_wine_type_accuracy: 0.9938 - val_wine_alcohol_root_mean_squared_error: 0.4791\n",
      "Epoch 42/100\n",
      "163/163 [==============================] - 2s 13ms/step - loss: 0.2196 - wine_type_loss: 0.0327 - wine_alcohol_loss: 0.1869 - wine_type_accuracy: 0.9938 - wine_alcohol_root_mean_squared_error: 0.4323 - val_loss: 0.2510 - val_wine_type_loss: 0.0221 - val_wine_alcohol_loss: 0.2289 - val_wine_type_accuracy: 0.9938 - val_wine_alcohol_root_mean_squared_error: 0.4784\n",
      "Epoch 43/100\n",
      "163/163 [==============================] - 2s 12ms/step - loss: 0.2163 - wine_type_loss: 0.0325 - wine_alcohol_loss: 0.1838 - wine_type_accuracy: 0.9938 - wine_alcohol_root_mean_squared_error: 0.4288 - val_loss: 0.2467 - val_wine_type_loss: 0.0216 - val_wine_alcohol_loss: 0.2251 - val_wine_type_accuracy: 0.9938 - val_wine_alcohol_root_mean_squared_error: 0.4745\n",
      "Epoch 44/100\n",
      "163/163 [==============================] - 2s 15ms/step - loss: 0.2148 - wine_type_loss: 0.0322 - wine_alcohol_loss: 0.1825 - wine_type_accuracy: 0.9942 - wine_alcohol_root_mean_squared_error: 0.4272 - val_loss: 0.2570 - val_wine_type_loss: 0.0217 - val_wine_alcohol_loss: 0.2352 - val_wine_type_accuracy: 0.9938 - val_wine_alcohol_root_mean_squared_error: 0.4850\n",
      "Epoch 45/100\n",
      "163/163 [==============================] - 3s 16ms/step - loss: 0.2127 - wine_type_loss: 0.0321 - wine_alcohol_loss: 0.1806 - wine_type_accuracy: 0.9944 - wine_alcohol_root_mean_squared_error: 0.4250 - val_loss: 0.2516 - val_wine_type_loss: 0.0215 - val_wine_alcohol_loss: 0.2301 - val_wine_type_accuracy: 0.9938 - val_wine_alcohol_root_mean_squared_error: 0.4797\n",
      "Epoch 46/100\n",
      "163/163 [==============================] - 2s 12ms/step - loss: 0.2089 - wine_type_loss: 0.0318 - wine_alcohol_loss: 0.1771 - wine_type_accuracy: 0.9944 - wine_alcohol_root_mean_squared_error: 0.4209 - val_loss: 0.2453 - val_wine_type_loss: 0.0208 - val_wine_alcohol_loss: 0.2244 - val_wine_type_accuracy: 0.9946 - val_wine_alcohol_root_mean_squared_error: 0.4737\n",
      "Epoch 47/100\n",
      "163/163 [==============================] - 2s 11ms/step - loss: 0.2079 - wine_type_loss: 0.0316 - wine_alcohol_loss: 0.1763 - wine_type_accuracy: 0.9948 - wine_alcohol_root_mean_squared_error: 0.4199 - val_loss: 0.2557 - val_wine_type_loss: 0.0211 - val_wine_alcohol_loss: 0.2345 - val_wine_type_accuracy: 0.9938 - val_wine_alcohol_root_mean_squared_error: 0.4843\n",
      "Epoch 48/100\n",
      "163/163 [==============================] - 3s 17ms/step - loss: 0.2062 - wine_type_loss: 0.0314 - wine_alcohol_loss: 0.1747 - wine_type_accuracy: 0.9948 - wine_alcohol_root_mean_squared_error: 0.4180 - val_loss: 0.2437 - val_wine_type_loss: 0.0212 - val_wine_alcohol_loss: 0.2225 - val_wine_type_accuracy: 0.9931 - val_wine_alcohol_root_mean_squared_error: 0.4717\n",
      "Epoch 49/100\n",
      "163/163 [==============================] - 2s 14ms/step - loss: 0.2043 - wine_type_loss: 0.0313 - wine_alcohol_loss: 0.1730 - wine_type_accuracy: 0.9946 - wine_alcohol_root_mean_squared_error: 0.4159 - val_loss: 0.2447 - val_wine_type_loss: 0.0212 - val_wine_alcohol_loss: 0.2235 - val_wine_type_accuracy: 0.9931 - val_wine_alcohol_root_mean_squared_error: 0.4727\n",
      "Epoch 50/100\n",
      "163/163 [==============================] - 3s 16ms/step - loss: 0.2016 - wine_type_loss: 0.0311 - wine_alcohol_loss: 0.1705 - wine_type_accuracy: 0.9946 - wine_alcohol_root_mean_squared_error: 0.4129 - val_loss: 0.2391 - val_wine_type_loss: 0.0208 - val_wine_alcohol_loss: 0.2183 - val_wine_type_accuracy: 0.9938 - val_wine_alcohol_root_mean_squared_error: 0.4673\n",
      "Epoch 51/100\n",
      "163/163 [==============================] - 2s 12ms/step - loss: 0.2005 - wine_type_loss: 0.0310 - wine_alcohol_loss: 0.1696 - wine_type_accuracy: 0.9948 - wine_alcohol_root_mean_squared_error: 0.4118 - val_loss: 0.2408 - val_wine_type_loss: 0.0203 - val_wine_alcohol_loss: 0.2204 - val_wine_type_accuracy: 0.9946 - val_wine_alcohol_root_mean_squared_error: 0.4695\n",
      "Epoch 52/100\n",
      "163/163 [==============================] - 2s 11ms/step - loss: 0.1975 - wine_type_loss: 0.0308 - wine_alcohol_loss: 0.1667 - wine_type_accuracy: 0.9952 - wine_alcohol_root_mean_squared_error: 0.4083 - val_loss: 0.2412 - val_wine_type_loss: 0.0201 - val_wine_alcohol_loss: 0.2212 - val_wine_type_accuracy: 0.9946 - val_wine_alcohol_root_mean_squared_error: 0.4703\n",
      "Epoch 53/100\n",
      "163/163 [==============================] - 2s 10ms/step - loss: 0.1976 - wine_type_loss: 0.0306 - wine_alcohol_loss: 0.1670 - wine_type_accuracy: 0.9952 - wine_alcohol_root_mean_squared_error: 0.4087 - val_loss: 0.2332 - val_wine_type_loss: 0.0203 - val_wine_alcohol_loss: 0.2129 - val_wine_type_accuracy: 0.9938 - val_wine_alcohol_root_mean_squared_error: 0.4614\n",
      "Epoch 54/100\n",
      "163/163 [==============================] - 2s 11ms/step - loss: 0.1967 - wine_type_loss: 0.0305 - wine_alcohol_loss: 0.1663 - wine_type_accuracy: 0.9950 - wine_alcohol_root_mean_squared_error: 0.4077 - val_loss: 0.2367 - val_wine_type_loss: 0.0199 - val_wine_alcohol_loss: 0.2168 - val_wine_type_accuracy: 0.9946 - val_wine_alcohol_root_mean_squared_error: 0.4656\n",
      "Epoch 55/100\n",
      "163/163 [==============================] - 3s 16ms/step - loss: 0.1950 - wine_type_loss: 0.0303 - wine_alcohol_loss: 0.1648 - wine_type_accuracy: 0.9952 - wine_alcohol_root_mean_squared_error: 0.4059 - val_loss: 0.2326 - val_wine_type_loss: 0.0195 - val_wine_alcohol_loss: 0.2131 - val_wine_type_accuracy: 0.9946 - val_wine_alcohol_root_mean_squared_error: 0.4616\n",
      "Epoch 56/100\n",
      "163/163 [==============================] - 3s 17ms/step - loss: 0.1929 - wine_type_loss: 0.0301 - wine_alcohol_loss: 0.1628 - wine_type_accuracy: 0.9950 - wine_alcohol_root_mean_squared_error: 0.4035 - val_loss: 0.2420 - val_wine_type_loss: 0.0196 - val_wine_alcohol_loss: 0.2224 - val_wine_type_accuracy: 0.9946 - val_wine_alcohol_root_mean_squared_error: 0.4716\n",
      "Epoch 57/100\n",
      "163/163 [==============================] - 3s 17ms/step - loss: 0.1925 - wine_type_loss: 0.0299 - wine_alcohol_loss: 0.1626 - wine_type_accuracy: 0.9950 - wine_alcohol_root_mean_squared_error: 0.4033 - val_loss: 0.2311 - val_wine_type_loss: 0.0191 - val_wine_alcohol_loss: 0.2120 - val_wine_type_accuracy: 0.9946 - val_wine_alcohol_root_mean_squared_error: 0.4604\n",
      "Epoch 58/100\n",
      "163/163 [==============================] - 2s 10ms/step - loss: 0.1905 - wine_type_loss: 0.0298 - wine_alcohol_loss: 0.1607 - wine_type_accuracy: 0.9952 - wine_alcohol_root_mean_squared_error: 0.4009 - val_loss: 0.2245 - val_wine_type_loss: 0.0195 - val_wine_alcohol_loss: 0.2050 - val_wine_type_accuracy: 0.9954 - val_wine_alcohol_root_mean_squared_error: 0.4528\n",
      "Epoch 59/100\n",
      "163/163 [==============================] - 2s 13ms/step - loss: 0.1894 - wine_type_loss: 0.0297 - wine_alcohol_loss: 0.1597 - wine_type_accuracy: 0.9952 - wine_alcohol_root_mean_squared_error: 0.3996 - val_loss: 0.2231 - val_wine_type_loss: 0.0195 - val_wine_alcohol_loss: 0.2036 - val_wine_type_accuracy: 0.9954 - val_wine_alcohol_root_mean_squared_error: 0.4512\n",
      "Epoch 60/100\n",
      "163/163 [==============================] - 2s 11ms/step - loss: 0.1885 - wine_type_loss: 0.0296 - wine_alcohol_loss: 0.1589 - wine_type_accuracy: 0.9952 - wine_alcohol_root_mean_squared_error: 0.3986 - val_loss: 0.2251 - val_wine_type_loss: 0.0192 - val_wine_alcohol_loss: 0.2059 - val_wine_type_accuracy: 0.9954 - val_wine_alcohol_root_mean_squared_error: 0.4538\n",
      "Epoch 61/100\n",
      "163/163 [==============================] - 3s 16ms/step - loss: 0.1874 - wine_type_loss: 0.0294 - wine_alcohol_loss: 0.1579 - wine_type_accuracy: 0.9952 - wine_alcohol_root_mean_squared_error: 0.3974 - val_loss: 0.2231 - val_wine_type_loss: 0.0192 - val_wine_alcohol_loss: 0.2039 - val_wine_type_accuracy: 0.9954 - val_wine_alcohol_root_mean_squared_error: 0.4516\n",
      "Epoch 62/100\n",
      "163/163 [==============================] - 2s 13ms/step - loss: 0.1863 - wine_type_loss: 0.0294 - wine_alcohol_loss: 0.1569 - wine_type_accuracy: 0.9950 - wine_alcohol_root_mean_squared_error: 0.3962 - val_loss: 0.2220 - val_wine_type_loss: 0.0188 - val_wine_alcohol_loss: 0.2032 - val_wine_type_accuracy: 0.9954 - val_wine_alcohol_root_mean_squared_error: 0.4508\n",
      "Epoch 63/100\n",
      "163/163 [==============================] - 2s 13ms/step - loss: 0.1849 - wine_type_loss: 0.0292 - wine_alcohol_loss: 0.1557 - wine_type_accuracy: 0.9952 - wine_alcohol_root_mean_squared_error: 0.3946 - val_loss: 0.2181 - val_wine_type_loss: 0.0188 - val_wine_alcohol_loss: 0.1993 - val_wine_type_accuracy: 0.9954 - val_wine_alcohol_root_mean_squared_error: 0.4465\n",
      "Epoch 64/100\n",
      "163/163 [==============================] - 2s 11ms/step - loss: 0.1834 - wine_type_loss: 0.0291 - wine_alcohol_loss: 0.1543 - wine_type_accuracy: 0.9952 - wine_alcohol_root_mean_squared_error: 0.3929 - val_loss: 0.2177 - val_wine_type_loss: 0.0187 - val_wine_alcohol_loss: 0.1990 - val_wine_type_accuracy: 0.9954 - val_wine_alcohol_root_mean_squared_error: 0.4461\n",
      "Epoch 65/100\n",
      "163/163 [==============================] - 3s 20ms/step - loss: 0.1830 - wine_type_loss: 0.0289 - wine_alcohol_loss: 0.1541 - wine_type_accuracy: 0.9952 - wine_alcohol_root_mean_squared_error: 0.3926 - val_loss: 0.2214 - val_wine_type_loss: 0.0187 - val_wine_alcohol_loss: 0.2027 - val_wine_type_accuracy: 0.9954 - val_wine_alcohol_root_mean_squared_error: 0.4502\n",
      "Epoch 66/100\n",
      "163/163 [==============================] - 4s 24ms/step - loss: 0.1819 - wine_type_loss: 0.0288 - wine_alcohol_loss: 0.1531 - wine_type_accuracy: 0.9952 - wine_alcohol_root_mean_squared_error: 0.3913 - val_loss: 0.2146 - val_wine_type_loss: 0.0188 - val_wine_alcohol_loss: 0.1958 - val_wine_type_accuracy: 0.9954 - val_wine_alcohol_root_mean_squared_error: 0.4425\n",
      "Epoch 67/100\n",
      "163/163 [==============================] - 2s 14ms/step - loss: 0.1811 - wine_type_loss: 0.0287 - wine_alcohol_loss: 0.1524 - wine_type_accuracy: 0.9952 - wine_alcohol_root_mean_squared_error: 0.3904 - val_loss: 0.2199 - val_wine_type_loss: 0.0183 - val_wine_alcohol_loss: 0.2016 - val_wine_type_accuracy: 0.9954 - val_wine_alcohol_root_mean_squared_error: 0.4490\n",
      "Epoch 68/100\n",
      "163/163 [==============================] - 4s 22ms/step - loss: 0.1804 - wine_type_loss: 0.0286 - wine_alcohol_loss: 0.1518 - wine_type_accuracy: 0.9952 - wine_alcohol_root_mean_squared_error: 0.3897 - val_loss: 0.2154 - val_wine_type_loss: 0.0182 - val_wine_alcohol_loss: 0.1972 - val_wine_type_accuracy: 0.9954 - val_wine_alcohol_root_mean_squared_error: 0.4441\n",
      "Epoch 69/100\n",
      "163/163 [==============================] - 3s 20ms/step - loss: 0.1788 - wine_type_loss: 0.0284 - wine_alcohol_loss: 0.1504 - wine_type_accuracy: 0.9952 - wine_alcohol_root_mean_squared_error: 0.3878 - val_loss: 0.2202 - val_wine_type_loss: 0.0178 - val_wine_alcohol_loss: 0.2025 - val_wine_type_accuracy: 0.9946 - val_wine_alcohol_root_mean_squared_error: 0.4500\n",
      "Epoch 70/100\n",
      "163/163 [==============================] - 3s 17ms/step - loss: 0.1787 - wine_type_loss: 0.0283 - wine_alcohol_loss: 0.1504 - wine_type_accuracy: 0.9952 - wine_alcohol_root_mean_squared_error: 0.3878 - val_loss: 0.2200 - val_wine_type_loss: 0.0182 - val_wine_alcohol_loss: 0.2018 - val_wine_type_accuracy: 0.9954 - val_wine_alcohol_root_mean_squared_error: 0.4492\n",
      "Epoch 71/100\n",
      "163/163 [==============================] - 3s 17ms/step - loss: 0.1768 - wine_type_loss: 0.0282 - wine_alcohol_loss: 0.1487 - wine_type_accuracy: 0.9952 - wine_alcohol_root_mean_squared_error: 0.3856 - val_loss: 0.2206 - val_wine_type_loss: 0.0181 - val_wine_alcohol_loss: 0.2026 - val_wine_type_accuracy: 0.9954 - val_wine_alcohol_root_mean_squared_error: 0.4501\n",
      "Epoch 72/100\n",
      "163/163 [==============================] - 3s 20ms/step - loss: 0.1766 - wine_type_loss: 0.0281 - wine_alcohol_loss: 0.1485 - wine_type_accuracy: 0.9952 - wine_alcohol_root_mean_squared_error: 0.3854 - val_loss: 0.2222 - val_wine_type_loss: 0.0181 - val_wine_alcohol_loss: 0.2041 - val_wine_type_accuracy: 0.9954 - val_wine_alcohol_root_mean_squared_error: 0.4518\n",
      "Epoch 73/100\n",
      "163/163 [==============================] - 3s 17ms/step - loss: 0.1756 - wine_type_loss: 0.0280 - wine_alcohol_loss: 0.1476 - wine_type_accuracy: 0.9952 - wine_alcohol_root_mean_squared_error: 0.3842 - val_loss: 0.2148 - val_wine_type_loss: 0.0177 - val_wine_alcohol_loss: 0.1971 - val_wine_type_accuracy: 0.9954 - val_wine_alcohol_root_mean_squared_error: 0.4439\n",
      "Epoch 74/100\n",
      "163/163 [==============================] - 3s 17ms/step - loss: 0.1741 - wine_type_loss: 0.0278 - wine_alcohol_loss: 0.1463 - wine_type_accuracy: 0.9952 - wine_alcohol_root_mean_squared_error: 0.3824 - val_loss: 0.2168 - val_wine_type_loss: 0.0179 - val_wine_alcohol_loss: 0.1988 - val_wine_type_accuracy: 0.9954 - val_wine_alcohol_root_mean_squared_error: 0.4459\n",
      "Epoch 75/100\n",
      "163/163 [==============================] - 3s 17ms/step - loss: 0.1742 - wine_type_loss: 0.0277 - wine_alcohol_loss: 0.1465 - wine_type_accuracy: 0.9952 - wine_alcohol_root_mean_squared_error: 0.3827 - val_loss: 0.2172 - val_wine_type_loss: 0.0179 - val_wine_alcohol_loss: 0.1993 - val_wine_type_accuracy: 0.9954 - val_wine_alcohol_root_mean_squared_error: 0.4464\n",
      "Epoch 76/100\n",
      "163/163 [==============================] - 3s 17ms/step - loss: 0.1734 - wine_type_loss: 0.0276 - wine_alcohol_loss: 0.1458 - wine_type_accuracy: 0.9950 - wine_alcohol_root_mean_squared_error: 0.3819 - val_loss: 0.2150 - val_wine_type_loss: 0.0174 - val_wine_alcohol_loss: 0.1976 - val_wine_type_accuracy: 0.9954 - val_wine_alcohol_root_mean_squared_error: 0.4445\n",
      "Epoch 77/100\n",
      "163/163 [==============================] - 3s 17ms/step - loss: 0.1732 - wine_type_loss: 0.0275 - wine_alcohol_loss: 0.1457 - wine_type_accuracy: 0.9952 - wine_alcohol_root_mean_squared_error: 0.3817 - val_loss: 0.2178 - val_wine_type_loss: 0.0174 - val_wine_alcohol_loss: 0.2004 - val_wine_type_accuracy: 0.9954 - val_wine_alcohol_root_mean_squared_error: 0.4476\n",
      "Epoch 78/100\n",
      "163/163 [==============================] - 3s 17ms/step - loss: 0.1719 - wine_type_loss: 0.0274 - wine_alcohol_loss: 0.1445 - wine_type_accuracy: 0.9952 - wine_alcohol_root_mean_squared_error: 0.3801 - val_loss: 0.2057 - val_wine_type_loss: 0.0172 - val_wine_alcohol_loss: 0.1885 - val_wine_type_accuracy: 0.9954 - val_wine_alcohol_root_mean_squared_error: 0.4342\n",
      "Epoch 79/100\n",
      "163/163 [==============================] - 3s 18ms/step - loss: 0.1714 - wine_type_loss: 0.0272 - wine_alcohol_loss: 0.1441 - wine_type_accuracy: 0.9954 - wine_alcohol_root_mean_squared_error: 0.3796 - val_loss: 0.2124 - val_wine_type_loss: 0.0169 - val_wine_alcohol_loss: 0.1956 - val_wine_type_accuracy: 0.9954 - val_wine_alcohol_root_mean_squared_error: 0.4422\n",
      "Epoch 80/100\n",
      "163/163 [==============================] - 4s 22ms/step - loss: 0.1699 - wine_type_loss: 0.0269 - wine_alcohol_loss: 0.1429 - wine_type_accuracy: 0.9954 - wine_alcohol_root_mean_squared_error: 0.3780 - val_loss: 0.2104 - val_wine_type_loss: 0.0180 - val_wine_alcohol_loss: 0.1924 - val_wine_type_accuracy: 0.9946 - val_wine_alcohol_root_mean_squared_error: 0.4387\n",
      "Epoch 81/100\n",
      "163/163 [==============================] - 4s 24ms/step - loss: 0.1701 - wine_type_loss: 0.0271 - wine_alcohol_loss: 0.1430 - wine_type_accuracy: 0.9948 - wine_alcohol_root_mean_squared_error: 0.3781 - val_loss: 0.2206 - val_wine_type_loss: 0.0172 - val_wine_alcohol_loss: 0.2034 - val_wine_type_accuracy: 0.9954 - val_wine_alcohol_root_mean_squared_error: 0.4510\n",
      "Epoch 82/100\n",
      "163/163 [==============================] - 3s 20ms/step - loss: 0.1681 - wine_type_loss: 0.0270 - wine_alcohol_loss: 0.1412 - wine_type_accuracy: 0.9952 - wine_alcohol_root_mean_squared_error: 0.3757 - val_loss: 0.2083 - val_wine_type_loss: 0.0173 - val_wine_alcohol_loss: 0.1910 - val_wine_type_accuracy: 0.9954 - val_wine_alcohol_root_mean_squared_error: 0.4370\n",
      "Epoch 83/100\n",
      "163/163 [==============================] - 3s 19ms/step - loss: 0.1691 - wine_type_loss: 0.0269 - wine_alcohol_loss: 0.1422 - wine_type_accuracy: 0.9952 - wine_alcohol_root_mean_squared_error: 0.3771 - val_loss: 0.2125 - val_wine_type_loss: 0.0171 - val_wine_alcohol_loss: 0.1954 - val_wine_type_accuracy: 0.9954 - val_wine_alcohol_root_mean_squared_error: 0.4420\n",
      "Epoch 84/100\n",
      "163/163 [==============================] - 3s 17ms/step - loss: 0.1680 - wine_type_loss: 0.0268 - wine_alcohol_loss: 0.1413 - wine_type_accuracy: 0.9950 - wine_alcohol_root_mean_squared_error: 0.3758 - val_loss: 0.2136 - val_wine_type_loss: 0.0168 - val_wine_alcohol_loss: 0.1967 - val_wine_type_accuracy: 0.9954 - val_wine_alcohol_root_mean_squared_error: 0.4435\n",
      "Epoch 85/100\n",
      "163/163 [==============================] - 3s 18ms/step - loss: 0.1671 - wine_type_loss: 0.0267 - wine_alcohol_loss: 0.1404 - wine_type_accuracy: 0.9952 - wine_alcohol_root_mean_squared_error: 0.3747 - val_loss: 0.2161 - val_wine_type_loss: 0.0169 - val_wine_alcohol_loss: 0.1991 - val_wine_type_accuracy: 0.9954 - val_wine_alcohol_root_mean_squared_error: 0.4462\n",
      "Epoch 86/100\n",
      "163/163 [==============================] - 3s 18ms/step - loss: 0.1678 - wine_type_loss: 0.0265 - wine_alcohol_loss: 0.1412 - wine_type_accuracy: 0.9952 - wine_alcohol_root_mean_squared_error: 0.3758 - val_loss: 0.2056 - val_wine_type_loss: 0.0170 - val_wine_alcohol_loss: 0.1886 - val_wine_type_accuracy: 0.9954 - val_wine_alcohol_root_mean_squared_error: 0.4343\n",
      "Epoch 87/100\n",
      "163/163 [==============================] - 5s 28ms/step - loss: 0.1675 - wine_type_loss: 0.0264 - wine_alcohol_loss: 0.1411 - wine_type_accuracy: 0.9952 - wine_alcohol_root_mean_squared_error: 0.3756 - val_loss: 0.2049 - val_wine_type_loss: 0.0172 - val_wine_alcohol_loss: 0.1877 - val_wine_type_accuracy: 0.9954 - val_wine_alcohol_root_mean_squared_error: 0.4332\n",
      "Epoch 88/100\n",
      "163/163 [==============================] - 6s 35ms/step - loss: 0.1665 - wine_type_loss: 0.0264 - wine_alcohol_loss: 0.1401 - wine_type_accuracy: 0.9952 - wine_alcohol_root_mean_squared_error: 0.3743 - val_loss: 0.2052 - val_wine_type_loss: 0.0168 - val_wine_alcohol_loss: 0.1884 - val_wine_type_accuracy: 0.9954 - val_wine_alcohol_root_mean_squared_error: 0.4341\n",
      "Epoch 89/100\n",
      "163/163 [==============================] - 4s 25ms/step - loss: 0.1654 - wine_type_loss: 0.0262 - wine_alcohol_loss: 0.1392 - wine_type_accuracy: 0.9952 - wine_alcohol_root_mean_squared_error: 0.3731 - val_loss: 0.2018 - val_wine_type_loss: 0.0166 - val_wine_alcohol_loss: 0.1852 - val_wine_type_accuracy: 0.9954 - val_wine_alcohol_root_mean_squared_error: 0.4304\n",
      "Epoch 90/100\n",
      "163/163 [==============================] - 3s 20ms/step - loss: 0.1647 - wine_type_loss: 0.0262 - wine_alcohol_loss: 0.1385 - wine_type_accuracy: 0.9952 - wine_alcohol_root_mean_squared_error: 0.3722 - val_loss: 0.2103 - val_wine_type_loss: 0.0164 - val_wine_alcohol_loss: 0.1939 - val_wine_type_accuracy: 0.9954 - val_wine_alcohol_root_mean_squared_error: 0.4404\n",
      "Epoch 91/100\n",
      "163/163 [==============================] - 3s 19ms/step - loss: 0.1634 - wine_type_loss: 0.0260 - wine_alcohol_loss: 0.1374 - wine_type_accuracy: 0.9952 - wine_alcohol_root_mean_squared_error: 0.3707 - val_loss: 0.2201 - val_wine_type_loss: 0.0164 - val_wine_alcohol_loss: 0.2038 - val_wine_type_accuracy: 0.9954 - val_wine_alcohol_root_mean_squared_error: 0.4514\n",
      "Epoch 92/100\n",
      "163/163 [==============================] - 5s 29ms/step - loss: 0.1631 - wine_type_loss: 0.0259 - wine_alcohol_loss: 0.1371 - wine_type_accuracy: 0.9952 - wine_alcohol_root_mean_squared_error: 0.3703 - val_loss: 0.2066 - val_wine_type_loss: 0.0164 - val_wine_alcohol_loss: 0.1902 - val_wine_type_accuracy: 0.9954 - val_wine_alcohol_root_mean_squared_error: 0.4361\n",
      "Epoch 93/100\n",
      "163/163 [==============================] - 4s 27ms/step - loss: 0.1632 - wine_type_loss: 0.0259 - wine_alcohol_loss: 0.1372 - wine_type_accuracy: 0.9952 - wine_alcohol_root_mean_squared_error: 0.3705 - val_loss: 0.2012 - val_wine_type_loss: 0.0165 - val_wine_alcohol_loss: 0.1846 - val_wine_type_accuracy: 0.9954 - val_wine_alcohol_root_mean_squared_error: 0.4297\n",
      "Epoch 94/100\n",
      "163/163 [==============================] - 2s 13ms/step - loss: 0.1626 - wine_type_loss: 0.0258 - wine_alcohol_loss: 0.1367 - wine_type_accuracy: 0.9952 - wine_alcohol_root_mean_squared_error: 0.3698 - val_loss: 0.2038 - val_wine_type_loss: 0.0167 - val_wine_alcohol_loss: 0.1871 - val_wine_type_accuracy: 0.9954 - val_wine_alcohol_root_mean_squared_error: 0.4326\n",
      "Epoch 95/100\n",
      "163/163 [==============================] - 4s 25ms/step - loss: 0.1613 - wine_type_loss: 0.0258 - wine_alcohol_loss: 0.1355 - wine_type_accuracy: 0.9950 - wine_alcohol_root_mean_squared_error: 0.3681 - val_loss: 0.2096 - val_wine_type_loss: 0.0162 - val_wine_alcohol_loss: 0.1935 - val_wine_type_accuracy: 0.9954 - val_wine_alcohol_root_mean_squared_error: 0.4398\n",
      "Epoch 96/100\n",
      "163/163 [==============================] - 3s 21ms/step - loss: 0.1613 - wine_type_loss: 0.0257 - wine_alcohol_loss: 0.1356 - wine_type_accuracy: 0.9952 - wine_alcohol_root_mean_squared_error: 0.3683 - val_loss: 0.2067 - val_wine_type_loss: 0.0162 - val_wine_alcohol_loss: 0.1905 - val_wine_type_accuracy: 0.9954 - val_wine_alcohol_root_mean_squared_error: 0.4364\n",
      "Epoch 97/100\n",
      "163/163 [==============================] - 3s 18ms/step - loss: 0.1612 - wine_type_loss: 0.0255 - wine_alcohol_loss: 0.1356 - wine_type_accuracy: 0.9956 - wine_alcohol_root_mean_squared_error: 0.3683 - val_loss: 0.1986 - val_wine_type_loss: 0.0163 - val_wine_alcohol_loss: 0.1823 - val_wine_type_accuracy: 0.9954 - val_wine_alcohol_root_mean_squared_error: 0.4269\n",
      "Epoch 98/100\n",
      "163/163 [==============================] - 3s 19ms/step - loss: 0.1607 - wine_type_loss: 0.0255 - wine_alcohol_loss: 0.1352 - wine_type_accuracy: 0.9954 - wine_alcohol_root_mean_squared_error: 0.3677 - val_loss: 0.2094 - val_wine_type_loss: 0.0161 - val_wine_alcohol_loss: 0.1933 - val_wine_type_accuracy: 0.9954 - val_wine_alcohol_root_mean_squared_error: 0.4397\n",
      "Epoch 99/100\n",
      "163/163 [==============================] - 4s 23ms/step - loss: 0.1598 - wine_type_loss: 0.0255 - wine_alcohol_loss: 0.1344 - wine_type_accuracy: 0.9952 - wine_alcohol_root_mean_squared_error: 0.3666 - val_loss: 0.2071 - val_wine_type_loss: 0.0160 - val_wine_alcohol_loss: 0.1911 - val_wine_type_accuracy: 0.9954 - val_wine_alcohol_root_mean_squared_error: 0.4371\n",
      "Epoch 100/100\n",
      "163/163 [==============================] - 3s 18ms/step - loss: 0.1596 - wine_type_loss: 0.0253 - wine_alcohol_loss: 0.1342 - wine_type_accuracy: 0.9952 - wine_alcohol_root_mean_squared_error: 0.3664 - val_loss: 0.2007 - val_wine_type_loss: 0.0160 - val_wine_alcohol_loss: 0.1847 - val_wine_type_accuracy: 0.9954 - val_wine_alcohol_root_mean_squared_error: 0.4297\n"
     ]
    }
   ],
   "metadata": {}
  },
  {
   "cell_type": "code",
   "execution_count": 119,
   "source": [
    "plot_metric('wine_alcohol_root_mean_squared_error', 'RMSE', ylim=2)"
   ],
   "outputs": [
    {
     "output_type": "display_data",
     "data": {
      "text/plain": [
       "<Figure size 432x288 with 1 Axes>"
      ],
      "image/png": "[encoded data removed]"
     },
     "metadata": {
      "needs_background": "light"
     }
    }
   ],
   "metadata": {}
  },
  {
   "cell_type": "code",
   "execution_count": 118,
   "source": [
    "plot_metric('wine_type_loss', 'RMSE', ylim=0.5)"
   ],
   "outputs": [
    {
     "output_type": "display_data",
     "data": {
      "text/plain": [
       "<Figure size 432x288 with 1 Axes>"
      ],
      "image/png": "[encoded data removed]"
     },
     "metadata": {
      "needs_background": "light"
     }
    }
   ],
   "metadata": {}
  },
  {
   "cell_type": "code",
   "execution_count": null,
   "source": [],
   "outputs": [],
   "metadata": {}
  }
 ],
 "metadata": {
  "orig_nbformat": 4,
  "language_info": {
   "name": "python",
   "version": "3.9.4",
   "mimetype": "text/x-python",
   "codemirror_mode": {
    "name": "ipython",
    "version": 3
   },
   "pygments_lexer": "ipython3",
   "nbconvert_exporter": "python",
   "file_extension": ".py"
  },
  "kernelspec": {
   "name": "python3",
   "display_name": "Python 3.9.4 64-bit ('DL': venv)"
  },
  "interpreter": {
   "hash": "bb28324ca403632636624716ced22f0431eb1e0279c5c905a8cc082c201258d1"
  }
 },
 "nbformat": 4,
 "nbformat_minor": 2
}